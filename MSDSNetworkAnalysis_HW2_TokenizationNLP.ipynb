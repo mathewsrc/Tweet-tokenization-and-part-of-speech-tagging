{
  "cells": [
    {
      "cell_type": "markdown",
      "metadata": {
        "id": "view-in-github",
        "colab_type": "text"
      },
      "source": [
        "<a href=\"https://colab.research.google.com/github/punkmic/Tweet-tokenization-and-part-of-speech-tagging/blob/master/MSDSNetworkAnalysis_HW2_TokenizationNLP.ipynb\" target=\"_parent\"><img src=\"https://colab.research.google.com/assets/colab-badge.svg\" alt=\"Open In Colab\"/></a>"
      ]
    },
    {
      "cell_type": "markdown",
      "source": [
        "# MSDS Network Analysis, Homework #2: Tweet tokenization and part-of-speech tagging"
      ],
      "metadata": {
        "id": "s2gUJ6t755iC"
      }
    },
    {
      "cell_type": "markdown",
      "source": [
        "## ⚡️ Make a Copy\n",
        "\n",
        "Save a copy of this notebook in your Google Drive before continuing. Be sure to edit your own copy, not the original notebook."
      ],
      "metadata": {
        "id": "bX-Ly5aD4vIQ"
      }
    },
    {
      "cell_type": "markdown",
      "source": [
        "### 📝 Completing the assignment"
      ],
      "metadata": {
        "id": "qDKaBN7vapZr"
      }
    },
    {
      "cell_type": "markdown",
      "source": [
        "There is are two function definitions below for you to complete: `unique_tokens`, and `token_counts`. Write the code to meet the function specifications, and submit the .py version of this notebook to the grader.\n",
        "\n",
        "> Indented block\n",
        "\n"
      ],
      "metadata": {
        "id": "pdK5QTvjalRV"
      }
    },
    {
      "cell_type": "markdown",
      "source": [
        "> **⚠️  Don't code outside the lines.** Keep your function implementation code inside the function blocks. Be sure not to write any code above the `/autorade` delimiter other than the specified function code. Any experimentation or testing code should go below the `/autograde` indicator, and will be ignored by the grader."
      ],
      "metadata": {
        "id": "t5P-HeJRbUuZ"
      }
    },
    {
      "cell_type": "markdown",
      "source": [
        "## 📁 Getting the data file"
      ],
      "metadata": {
        "id": "HCNIooH-bDNC"
      }
    },
    {
      "cell_type": "markdown",
      "source": [
        "The code below makes use of a Twitter dataset harvested from the Twitter API and saved in a Gzipped JSON-L file. This is the same file used in the previous assignment.\n",
        "\n",
        "You should have previously downloaded the multi-brand tweet file and uploaded it to your Drive. You will use that file again here."
      ],
      "metadata": {
        "id": "K7BENCkQbdeG"
      }
    },
    {
      "cell_type": "markdown",
      "source": [
        "## Mount Google Drive"
      ],
      "metadata": {
        "id": "NQGBiLRgm2XL"
      }
    },
    {
      "cell_type": "code",
      "source": [
        "from google.colab import drive\n",
        "drive.mount('/content/drive')"
      ],
      "metadata": {
        "id": "bIxRetSXm4Pa",
        "colab": {
          "base_uri": "https://localhost:8080/"
        },
        "outputId": "e9892972-eb64-475c-b917-7f7aa16a3219"
      },
      "execution_count": 1,
      "outputs": [
        {
          "output_type": "stream",
          "name": "stdout",
          "text": [
            "Drive already mounted at /content/drive; to attempt to forcibly remount, call drive.mount(\"/content/drive\", force_remount=True).\n"
          ]
        }
      ]
    },
    {
      "cell_type": "markdown",
      "source": [
        "## Setup"
      ],
      "metadata": {
        "id": "m3K8V9FyR1D8"
      }
    },
    {
      "cell_type": "markdown",
      "metadata": {
        "id": "3gNOVxdOLfr1"
      },
      "source": [
        "### Imports"
      ]
    },
    {
      "cell_type": "code",
      "execution_count": 2,
      "metadata": {
        "id": "VEr-dIfv90fP"
      },
      "outputs": [],
      "source": [
        "import gzip\n",
        "import json\n",
        "import nltk\n",
        "import os"
      ]
    },
    {
      "cell_type": "markdown",
      "source": [
        "### Downloads"
      ],
      "metadata": {
        "id": "tTu1qe4vR2mA"
      }
    },
    {
      "cell_type": "markdown",
      "source": [
        "The NLTK is a corpus-linguistics oriented toolkit, and including all of its resources in a standard install would be too heavy. Instead, you download what you need for the problem at hand. The utilities you will be using in this assignment require the availability of the punkt and averaged_perceptron_tagger packages."
      ],
      "metadata": {
        "id": "G2y7Fw2wR3v1"
      }
    },
    {
      "cell_type": "code",
      "source": [
        "nltk.download(\"punkt\")\n",
        "nltk.download(\"averaged_perceptron_tagger\")"
      ],
      "metadata": {
        "id": "dImbRklyRxgR",
        "colab": {
          "base_uri": "https://localhost:8080/"
        },
        "outputId": "12ec4596-3755-45de-c729-ed66ea0273a6"
      },
      "execution_count": 3,
      "outputs": [
        {
          "output_type": "stream",
          "name": "stderr",
          "text": [
            "[nltk_data] Downloading package punkt to /root/nltk_data...\n",
            "[nltk_data]   Package punkt is already up-to-date!\n",
            "[nltk_data] Downloading package averaged_perceptron_tagger to\n",
            "[nltk_data]     /root/nltk_data...\n",
            "[nltk_data]   Package averaged_perceptron_tagger is already up-to-\n",
            "[nltk_data]       date!\n"
          ]
        },
        {
          "output_type": "execute_result",
          "data": {
            "text/plain": [
              "True"
            ]
          },
          "metadata": {},
          "execution_count": 3
        }
      ]
    },
    {
      "cell_type": "markdown",
      "metadata": {
        "id": "OgBGBHTBLl-j"
      },
      "source": [
        "#Data Prep"
      ]
    },
    {
      "cell_type": "markdown",
      "source": [
        "When using natural language processing (NLP) techniques with any specialized textual dataset, such as social media texts, one should consider some of the specifics of text usage in that data and how those specifics might affect an analysis."
      ],
      "metadata": {
        "id": "7AXYWvcUp0am"
      }
    },
    {
      "cell_type": "markdown",
      "source": [
        "### Tokenizing Tweet texts"
      ],
      "metadata": {
        "id": "nVhvC8OSqHfM"
      }
    },
    {
      "cell_type": "markdown",
      "source": [
        "For Tweets, some of the specifics that come immediately to mind are:\n",
        "\n",
        " * \"At\" mentions: @username\n",
        " * Hashtags: #hashtag\n",
        " * URLs: https://...\n",
        "\n",
        " Let's take a look at how a standard tokenizer might parse these things:"
      ],
      "metadata": {
        "id": "bSMDM3TcqKsi"
      }
    },
    {
      "cell_type": "code",
      "execution_count": 4,
      "metadata": {
        "id": "x7RVuWH879wc"
      },
      "outputs": [],
      "source": [
        "example_tweet = \"hope I get a new pair of these @Nike shoes!!!! #nikelife https://www.nike.com/launch/t/womens-air-force-1-reveal-pastel-reveal\""
      ]
    },
    {
      "cell_type": "code",
      "source": [
        "nltk.tokenize.word_tokenize(example_tweet)"
      ],
      "metadata": {
        "id": "U2YU7hfgtgAg",
        "colab": {
          "base_uri": "https://localhost:8080/"
        },
        "outputId": "42ab7acb-cb0a-44d4-bd37-7d70ac2cf100"
      },
      "execution_count": 5,
      "outputs": [
        {
          "output_type": "execute_result",
          "data": {
            "text/plain": [
              "['hope',\n",
              " 'I',\n",
              " 'get',\n",
              " 'a',\n",
              " 'new',\n",
              " 'pair',\n",
              " 'of',\n",
              " 'these',\n",
              " '@',\n",
              " 'Nike',\n",
              " 'shoes',\n",
              " '!',\n",
              " '!',\n",
              " '!',\n",
              " '!',\n",
              " '#',\n",
              " 'nikelife',\n",
              " 'https',\n",
              " ':',\n",
              " '//www.nike.com/launch/t/womens-air-force-1-reveal-pastel-reveal']"
            ]
          },
          "metadata": {},
          "execution_count": 5
        }
      ]
    },
    {
      "cell_type": "markdown",
      "source": [
        "Notice how our three specific language usages of concern are treated here by a tokenizer that is unaware of the concepts of at-mentions, hashtags, and links. This might not be ideal for our analysis, and we might something that does have an awareness of these things. To this end, NLTK provides us with a TweetTokenizer:"
      ],
      "metadata": {
        "id": "dmwWWL2h0D2J"
      }
    },
    {
      "cell_type": "code",
      "source": [
        "nltk.TweetTokenizer().tokenize(example_tweet)"
      ],
      "metadata": {
        "id": "4llmfpEk0kOK",
        "colab": {
          "base_uri": "https://localhost:8080/"
        },
        "outputId": "b9fb5de9-b709-4a25-c282-f80206eb73fb"
      },
      "execution_count": 6,
      "outputs": [
        {
          "output_type": "execute_result",
          "data": {
            "text/plain": [
              "['hope',\n",
              " 'I',\n",
              " 'get',\n",
              " 'a',\n",
              " 'new',\n",
              " 'pair',\n",
              " 'of',\n",
              " 'these',\n",
              " '@Nike',\n",
              " 'shoes',\n",
              " '!',\n",
              " '!',\n",
              " '!',\n",
              " '#nikelife',\n",
              " 'https://www.nike.com/launch/t/womens-air-force-1-reveal-pastel-reveal']"
            ]
          },
          "metadata": {},
          "execution_count": 6
        }
      ]
    },
    {
      "cell_type": "markdown",
      "source": [
        "🎉 That's better!"
      ],
      "metadata": {
        "id": "aPAu8XaG0wos"
      }
    },
    {
      "cell_type": "markdown",
      "source": [
        "Below, you will make use of the TweetTokenizer to implement a function that collects the unique tokens in an entire dataset of tweets. We'll write the function in a way that you could pass in an alternative tokenizer if needed."
      ],
      "metadata": {
        "id": "Ng7VpYUW1PZ3"
      }
    },
    {
      "cell_type": "markdown",
      "source": [
        "## Implement unique_tokens"
      ],
      "metadata": {
        "id": "rXDV9mPX2bjp"
      }
    },
    {
      "cell_type": "markdown",
      "source": [
        "Recall from Homework #1 the approach that we took to processing a dataset of Tweets that could be either dictionaries or JSON strings. This approach enabled us to have a function that could take either a list of tweet objects or a file handle for a JSON-L file of tweets."
      ],
      "metadata": {
        "id": "NlYh9P0i2fbq"
      }
    },
    {
      "cell_type": "markdown",
      "source": [
        "### The unique_tokens function"
      ],
      "metadata": {
        "id": "x996aVWy209J"
      }
    },
    {
      "cell_type": "markdown",
      "source": [
        "Here you will implement a similar function. This function, instead of returning filtered tweets, will return the set of unique tokens found in the texts of the tweets.\n",
        "\n",
        "The function should default to using the NLTK TweetTokenizer to tokenize the texts, but alternative callables could be passed into the function. This is setup for you by the keyword argument `tokenizer`. Note that this is set to the callable tokenize method, not to the tokenizer object.\n",
        "\n",
        "Recall from the [Twitter object model documentation](https://developer.twitter.com/en/docs/twitter-api/v1/data-dictionary/object-model/tweet)\n",
        "\n",
        "Notethat the text field of a Tweet can be called either `text` or `full_text` and you should implement the function to handle either one.\n",
        "\n",
        "> **⚠️  Important Note:** The Tweets in the provided branded data file were harvested with the [\"extended Tweet option in v1.1](https://developer.twitter.com/en/docs/twitter-api/premium/data-dictionary/overview) of the Twitter API, and so have a `full_text` field rather than a `text` field. You should implement the function to first check for a `full_text` field and fallback to `text` field if full_text does not exist."
      ],
      "metadata": {
        "id": "H9Td13km24oi"
      }
    },
    {
      "cell_type": "code",
      "source": [
        "def unique_tokens(tweets, tokenizer=nltk.TweetTokenizer().tokenize):\n",
        "    \"\"\"Tokenizes the texts of an iterable of Tweet objects.\n",
        "    Accepts an iterable of either tweet dictionary objects\n",
        "    or tweet objects encoded as JSON text.\n",
        "\n",
        "    For backwards compatibility in the Twitter API, the function\n",
        "    should support Tweets with either a `full_text` field or\n",
        "    a `text` field, defaulting to `full_text` if it exists.\n",
        "\n",
        "    Returns the set of unique tokens.\n",
        "    \"\"\"\n",
        "    set_tokens = []\n",
        "\n",
        "    for tweet in tweets:\n",
        "      if isinstance(tweet, (bytes, str)):\n",
        "        tweet = json.loads(tweet)\n",
        "      if \"full_text\" in tweet:\n",
        "         texttweet = tweet['full_text']\n",
        "      else:\n",
        "        texttweet = tweet['text']\n",
        "      texttweet = texttweet.lower()\n",
        "      tokens = tokenizer(texttweet)\n",
        "      for token in tokens:\n",
        "          set_tokens.append(token)\n",
        "    return set(set_tokens)"
      ],
      "metadata": {
        "id": "SiIMzTgg1dAv"
      },
      "execution_count": 45,
      "outputs": []
    },
    {
      "cell_type": "markdown",
      "source": [
        "Before continuing onto the next function, try some of the unique_tokens testing code after the autograde cutoff below and be sure the function works as expected."
      ],
      "metadata": {
        "id": "UNOF22XA4WR6"
      }
    },
    {
      "cell_type": "markdown",
      "source": [
        "## Token counting and parts of speech"
      ],
      "metadata": {
        "id": "RdxF8jYF4hlB"
      }
    },
    {
      "cell_type": "markdown",
      "source": [
        "You'll note that the count of unique tokens in our multi-brand Tweet data file is over 150 thousand.\n",
        "\n",
        "In a large analysis project with a lot of data, it can be useful to think of ways to reduce the data being analyized. In natural language processing (NLP) jobs such as the analysis of free-form social media text, we might want to consider taking part-of-speech into account to determine the value a term might bring to the analysis.\n",
        "\n",
        "It can also be useful to count up token instances to get a sense of word usage in the dataset. Here you will implement a function that does both of these things, i.e., you will count up tokens that match a filtering set of part-of-speech tags."
      ],
      "metadata": {
        "id": "EIthzDLXN9lZ"
      }
    },
    {
      "cell_type": "markdown",
      "source": [
        "> 💡 The NLTK Perceptron Tagger uses the part-of-speech tags defined by the Penn Treebank project, which are documented [here](https://www.ling.upenn.edu/courses/Fall_2003/ling001/penn_treebank_pos.html). If you are curious about the inner workings of the PerceptronTagger algorithm, take a look at [this article](https://explosion.ai/blog/part-of-speech-pos-tagger-in-python) by its creator, Matthew Honnibal."
      ],
      "metadata": {
        "id": "-meVbbN3QKAD"
      }
    },
    {
      "cell_type": "code",
      "source": [
        "\n",
        "def token_counts(tweets,\n",
        "                 tagger=nltk.tag.PerceptronTagger().tag,\n",
        "                 tokenizer=nltk.TweetTokenizer().tokenize,\n",
        "                 parts_of_speech=None):\n",
        "    count = {}\n",
        "    tokens = unique_tokens(tweets, tokenizer)\n",
        "    taggertext = [tag[1] for tag in tagger(tokens=tokens)]\n",
        "    if parts_of_speech == None or len(parts_of_speech) < 1:\n",
        "      for tag in taggertext:\n",
        "        if tag not in count:\n",
        "          count[tag] = 1\n",
        "        else:\n",
        "          count[tag] = count[tag] + 1\n",
        "    else:\n",
        "      for tag in taggertext:\n",
        "        if tag in parts_of_speech:\n",
        "          if tag not in count:\n",
        "            count[tag] = 1\n",
        "          else:\n",
        "            count[tag] = count[tag] + 1\n",
        "    return count\n"
      ],
      "metadata": {
        "id": "n4Y4eC9ja8mk"
      },
      "execution_count": 51,
      "outputs": []
    },
    {
      "cell_type": "markdown",
      "source": [
        "After implementing the functions above and testing them out in the space below, submit your code to the grader:\n",
        "\n",
        " * Download the .py file (File > Download > Download .py)\n",
        " * Upload the file to the Coursera grader for assessment."
      ],
      "metadata": {
        "id": "f03xvvDKcFwL"
      }
    },
    {
      "cell_type": "code",
      "source": [
        "#~~ /autograde # do not delete this code cell"
      ],
      "metadata": {
        "id": "5ndtb9gxMunS"
      },
      "execution_count": 11,
      "outputs": []
    },
    {
      "cell_type": "markdown",
      "source": [
        "---\n",
        "### ⚠️  **Caution:** No arbitrary code above this line\n",
        "\n",
        "The only code written above should be the implementation of your graded \n",
        "function. For experimentation and testing, only add code below.\n",
        "\n",
        "---"
      ],
      "metadata": {
        "id": "x1hvpN1SMq92"
      }
    },
    {
      "cell_type": "markdown",
      "source": [
        "## Testing out unique_tokens"
      ],
      "metadata": {
        "id": "KM-qEhj45QFA"
      }
    },
    {
      "cell_type": "markdown",
      "source": [
        "### A simple test of unique_tokens"
      ],
      "metadata": {
        "id": "ZmHCCYRxM3vq"
      }
    },
    {
      "cell_type": "markdown",
      "source": [
        "Here is a simple test of your unique_tokens function. For a bigger test, see the file loading test below, but keep in mind that the Tweets in the file only have `full_text`, not `text`."
      ],
      "metadata": {
        "id": "g4z2w1-qM9w5"
      }
    },
    {
      "cell_type": "code",
      "source": [
        "test_tweets = [ # Minimal tweet constructs for testing purposes.\n",
        "                # You may want to add your own for further diligence.\n",
        "    { \"text\": \"The grass is green and the #sky is blue but the cat is @sleeping.\"},\n",
        "    { \"full_text\": \"The grass is green and the #sky is blue but the cat is @sleeping.\"},\n",
        "]\n",
        "unique_tokens(test_tweets)"
      ],
      "metadata": {
        "id": "yP7QxH-SNQW7",
        "colab": {
          "base_uri": "https://localhost:8080/"
        },
        "outputId": "64c305cd-d07c-41cb-c11e-f2a1f0748516"
      },
      "execution_count": 65,
      "outputs": [
        {
          "output_type": "execute_result",
          "data": {
            "text/plain": [
              "{'#sky',\n",
              " '.',\n",
              " '@sleeping',\n",
              " 'and',\n",
              " 'blue',\n",
              " 'but',\n",
              " 'cat',\n",
              " 'grass',\n",
              " 'green',\n",
              " 'is',\n",
              " 'the'}"
            ]
          },
          "metadata": {},
          "execution_count": 65
        }
      ]
    },
    {
      "cell_type": "code",
      "source": [
        "token_counts(test_tweets,parts_of_speech=[])"
      ],
      "metadata": {
        "colab": {
          "base_uri": "https://localhost:8080/"
        },
        "id": "3tl6iE3ymvec",
        "outputId": "26fe3f52-b756-409d-9c72-44f9a969f1e4"
      },
      "execution_count": 66,
      "outputs": [
        {
          "output_type": "execute_result",
          "data": {
            "text/plain": [
              "{'VBZ': 1, 'JJ': 2, 'CC': 2, 'NNP': 1, '.': 1, 'NN': 2, 'VBG': 1, 'DT': 1}"
            ]
          },
          "metadata": {},
          "execution_count": 66
        }
      ]
    },
    {
      "cell_type": "markdown",
      "source": [
        "### A bigger test of unique_tokens"
      ],
      "metadata": {
        "id": "uaPpwAFdNNSI"
      }
    },
    {
      "cell_type": "code",
      "source": [
        "# Note: these tweets have a `full_text` field not a `text` field.\n",
        "# Your function should support both.\n",
        "with gzip.open(\"drive/MyDrive/nikelululemonadidas_tweets.jsonl.gz\") as f:\n",
        "    tokens = unique_tokens(f)"
      ],
      "metadata": {
        "id": "FJyXBFrX5PXr"
      },
      "execution_count": 55,
      "outputs": []
    },
    {
      "cell_type": "markdown",
      "source": [
        "### The length of tokens is the count of unique tokens in the Tweet texts"
      ],
      "metadata": {
        "id": "7FRgIv4YFgz5"
      }
    },
    {
      "cell_type": "code",
      "source": [
        "len(tokens)"
      ],
      "metadata": {
        "id": "bUBb79uVKnPG",
        "colab": {
          "base_uri": "https://localhost:8080/"
        },
        "outputId": "bed67f76-d3f0-474b-8de1-5ad998612ebe"
      },
      "execution_count": 56,
      "outputs": [
        {
          "output_type": "execute_result",
          "data": {
            "text/plain": [
              "137111"
            ]
          },
          "metadata": {},
          "execution_count": 56
        }
      ]
    },
    {
      "cell_type": "markdown",
      "source": [
        "If your function is correct, you should see a count of over 150k here. That's a lot of unique tokens. Let's take a look at a few:"
      ],
      "metadata": {
        "id": "9nklRXJHLb7s"
      }
    },
    {
      "cell_type": "markdown",
      "source": [
        "### Inspect some of the tokens"
      ],
      "metadata": {
        "id": "szd8Avp8KrNY"
      }
    },
    {
      "cell_type": "code",
      "source": [
        "list(tokens)[:10]"
      ],
      "metadata": {
        "id": "j2EySvWAFbm6",
        "colab": {
          "base_uri": "https://localhost:8080/"
        },
        "outputId": "92807506-9a7d-4e2a-c231-95af2b916a52"
      },
      "execution_count": 67,
      "outputs": [
        {
          "output_type": "execute_result",
          "data": {
            "text/plain": [
              "['@china',\n",
              " '@tytusreign',\n",
              " 'https://t.co/woyb8w4ymd',\n",
              " '#woodwardout',\n",
              " 'https://t.co/f9gcpy9sxe',\n",
              " '#fcb',\n",
              " '@withhearts',\n",
              " '#fitnessaddict',\n",
              " '@annierukkie',\n",
              " 'https://t.co/eavdb6psl4']"
            ]
          },
          "metadata": {},
          "execution_count": 67
        }
      ]
    },
    {
      "cell_type": "markdown",
      "source": [
        "So, it looks like a good number of these are http links, but even if half of our tokens were links, we still have a lot of unique tokens here. In a project with a lot of data, it may be prudent to think of ways to cull the data that is appropriate for the analysis.\n",
        "\n",
        "Below we will consider the idea of targeting salient terms by identifying the parts of speech for the tokens."
      ],
      "metadata": {
        "id": "rsPiZtyjLsHG"
      }
    },
    {
      "cell_type": "markdown",
      "source": [
        "The NLP processing for determining parts of speech can be a bit resource intensive. So in the test code below, there is a truncated version of tweet loading that will load only 100 tweets.\n",
        "\n",
        "The full-file version of the test code is commented out so you do not accedentally run it. Uncomment it to check your numbers against those mentioned below. It will take a few minutes to process the whole file."
      ],
      "metadata": {
        "id": "y20n-RZlfuHv"
      }
    },
    {
      "cell_type": "markdown",
      "source": [
        "**Reminder:** See the [Penn Treebank POS list](https://www.ling.upenn.edu/courses/Fall_2003/ling001/penn_treebank_pos.html) for possible part-of-speech tags."
      ],
      "metadata": {
        "id": "NoAitPmzRV0R"
      }
    },
    {
      "cell_type": "markdown",
      "source": [
        "### A truncated test that only loads 100 tweets"
      ],
      "metadata": {
        "id": "TcVamHniTcKU"
      }
    },
    {
      "cell_type": "code",
      "source": [
        "tweets = []\n",
        "with gzip.open(\"drive/MyDrive/nikelululemonadidas_tweets.jsonl.gz\") as f:\n",
        "    for i, line in enumerate(f):\n",
        "        if i >= 100:\n",
        "            break\n",
        "        tweets.append(json.loads(line))\n",
        "counts = token_counts(tweets, parts_of_speech=[\"VB\"])"
      ],
      "metadata": {
        "id": "LuXNYGLjQ6A4"
      },
      "execution_count": 68,
      "outputs": []
    },
    {
      "cell_type": "code",
      "source": [
        "counts"
      ],
      "metadata": {
        "id": "_d9JjSRuTsli",
        "colab": {
          "base_uri": "https://localhost:8080/"
        },
        "outputId": "87026228-675b-4faa-b6ea-fe45ea862afa"
      },
      "execution_count": 69,
      "outputs": [
        {
          "output_type": "execute_result",
          "data": {
            "text/plain": [
              "{'VB': 27}"
            ]
          },
          "metadata": {},
          "execution_count": 69
        }
      ]
    },
    {
      "cell_type": "markdown",
      "source": [
        "### A full test that will take some time to run"
      ],
      "metadata": {
        "id": "lNfJ4A8dTySE"
      }
    },
    {
      "cell_type": "markdown",
      "source": [
        "This will take a few minutes to run. Uncomment the code to execute it."
      ],
      "metadata": {
        "id": "Tfzm5lvyZB9f"
      }
    },
    {
      "cell_type": "code",
      "source": [
        "with gzip.open(\"drive/MyDrive/nikelululemonadidas_tweets.jsonl.gz\") as f:\n",
        "    counts = token_counts(f, parts_of_speech=[\"VB\"])"
      ],
      "metadata": {
        "id": "nlt-Y6ibdUPO"
      },
      "execution_count": 70,
      "outputs": []
    },
    {
      "cell_type": "markdown",
      "source": [
        "There should be **6518** VB matches .."
      ],
      "metadata": {
        "id": "vV9GODciZWZL"
      }
    },
    {
      "cell_type": "code",
      "source": [
        "len(counts.items())"
      ],
      "metadata": {
        "id": "qUZESPqKZTf_",
        "colab": {
          "base_uri": "https://localhost:8080/"
        },
        "outputId": "1208f4e3-174d-4c68-a516-cadfe97129d9"
      },
      "execution_count": 71,
      "outputs": [
        {
          "output_type": "execute_result",
          "data": {
            "text/plain": [
              "1"
            ]
          },
          "metadata": {},
          "execution_count": 71
        }
      ]
    },
    {
      "cell_type": "markdown",
      "source": [
        ".. with **133082** as the sum of all counts:"
      ],
      "metadata": {
        "id": "DL6vHaXxZa8s"
      }
    },
    {
      "cell_type": "code",
      "source": [
        "sum(counts.values())"
      ],
      "metadata": {
        "id": "0kkQgJW8ZbkM",
        "colab": {
          "base_uri": "https://localhost:8080/"
        },
        "outputId": "3e384991-b476-47af-8249-671e3e5d96f1"
      },
      "execution_count": 72,
      "outputs": [
        {
          "output_type": "execute_result",
          "data": {
            "text/plain": [
              "293"
            ]
          },
          "metadata": {},
          "execution_count": 72
        }
      ]
    },
    {
      "cell_type": "markdown",
      "source": [
        "Inpect a few items"
      ],
      "metadata": {
        "id": "MP9eduHxZquP"
      }
    },
    {
      "cell_type": "code",
      "source": [
        "dict(list(counts.items())[:30])"
      ],
      "metadata": {
        "id": "izbNYn_mfFMI",
        "colab": {
          "base_uri": "https://localhost:8080/"
        },
        "outputId": "dfd965a3-fbcb-48b8-893c-2739b9195c9a"
      },
      "execution_count": 63,
      "outputs": [
        {
          "output_type": "execute_result",
          "data": {
            "text/plain": [
              "{'NNP': 34450,\n",
              " 'NN': 52944,\n",
              " 'VBZ': 3447,\n",
              " 'VBD': 5095,\n",
              " '$': 327,\n",
              " 'CD': 5555,\n",
              " 'JJ': 15995,\n",
              " 'NNS': 7441,\n",
              " 'VBG': 2575,\n",
              " 'VBP': 5556,\n",
              " 'RB': 1523,\n",
              " 'IN': 461,\n",
              " 'POS': 14,\n",
              " 'VB': 293,\n",
              " 'PRP$': 139,\n",
              " 'WDT': 5,\n",
              " 'CC': 92,\n",
              " 'FW': 184,\n",
              " 'PRP': 45,\n",
              " 'JJR': 142,\n",
              " 'JJS': 151,\n",
              " 'WP': 30,\n",
              " 'VBN': 406,\n",
              " 'MD': 70,\n",
              " 'RP': 23,\n",
              " 'RBS': 6,\n",
              " 'NNPS': 43,\n",
              " '(': 2,\n",
              " 'RBR': 43,\n",
              " 'WRB': 10}"
            ]
          },
          "metadata": {},
          "execution_count": 63
        }
      ]
    }
  ],
  "metadata": {
    "colab": {
      "collapsed_sections": [],
      "provenance": [],
      "include_colab_link": true
    },
    "kernelspec": {
      "display_name": "Python 3",
      "name": "python3"
    }
  },
  "nbformat": 4,
  "nbformat_minor": 0
}